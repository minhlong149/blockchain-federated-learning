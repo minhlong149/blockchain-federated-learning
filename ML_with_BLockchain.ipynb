{
  "cells": [
    {
      "cell_type": "markdown",
      "metadata": {
        "id": "ayecVtNpGdtB"
      },
      "source": [
        "# Trail Experiment to do  Machine Learning on Blockchain(BlockFL)\n"
      ]
    },
    {
      "cell_type": "markdown",
      "source": [
        "#### Install\n",
        "\n",
        "To run this project on Google Colab, please install these following python packages:"
      ],
      "metadata": {
        "id": "vt3RjqaBi99K"
      }
    },
    {
      "cell_type": "code",
      "execution_count": 1,
      "metadata": {
        "colab": {
          "base_uri": "https://localhost:8080/",
          "height": 1000
        },
        "id": "mDdEoK3_et8E",
        "outputId": "2c9b86a1-b6fc-414e-ad7b-132dcb1d5db6"
      },
      "outputs": [
        {
          "output_type": "stream",
          "name": "stdout",
          "text": [
            "Looking in indexes: https://pypi.org/simple, https://us-python.pkg.dev/colab-wheels/public/simple/\n",
            "Collecting Web3\n",
            "  Downloading web3-5.31.1-py3-none-any.whl (501 kB)\n",
            "\u001b[K     |████████████████████████████████| 501 kB 34.2 MB/s \n",
            "\u001b[?25hCollecting eth-abi<3.0.0,>=2.0.0b6\n",
            "  Downloading eth_abi-2.2.0-py3-none-any.whl (28 kB)\n",
            "Requirement already satisfied: aiohttp<4,>=3.7.4.post0 in /usr/local/lib/python3.7/dist-packages (from Web3) (3.8.3)\n",
            "Collecting eth-account<0.6.0,>=0.5.9\n",
            "  Downloading eth_account-0.5.9-py3-none-any.whl (101 kB)\n",
            "\u001b[K     |████████████████████████████████| 101 kB 11.8 MB/s \n",
            "\u001b[?25hRequirement already satisfied: requests<3.0.0,>=2.16.0 in /usr/local/lib/python3.7/dist-packages (from Web3) (2.23.0)\n",
            "Collecting websockets<10,>=9.1\n",
            "  Downloading websockets-9.1-cp37-cp37m-manylinux2010_x86_64.whl (103 kB)\n",
            "\u001b[K     |████████████████████████████████| 103 kB 57.1 MB/s \n",
            "\u001b[?25hCollecting hexbytes<1.0.0,>=0.1.0\n",
            "  Downloading hexbytes-0.3.0-py3-none-any.whl (6.4 kB)\n",
            "Collecting eth-rlp<0.3\n",
            "  Downloading eth_rlp-0.2.1-py3-none-any.whl (5.0 kB)\n",
            "Collecting eth-utils<2.0.0,>=1.9.5\n",
            "  Downloading eth_utils-1.10.0-py3-none-any.whl (24 kB)\n",
            "Requirement already satisfied: jsonschema<5,>=3.2.0 in /usr/local/lib/python3.7/dist-packages (from Web3) (4.3.3)\n",
            "Requirement already satisfied: typing-extensions<5,>=3.7.4.1 in /usr/local/lib/python3.7/dist-packages (from Web3) (4.1.1)\n",
            "Collecting eth-hash[pycryptodome]<1.0.0,>=0.2.0\n",
            "  Downloading eth_hash-0.5.1-py3-none-any.whl (9.0 kB)\n",
            "Collecting eth-typing<3.0.0,>=2.0.0\n",
            "  Downloading eth_typing-2.3.0-py3-none-any.whl (6.2 kB)\n",
            "Collecting ipfshttpclient==0.8.0a2\n",
            "  Downloading ipfshttpclient-0.8.0a2-py3-none-any.whl (82 kB)\n",
            "\u001b[K     |████████████████████████████████| 82 kB 936 kB/s \n",
            "\u001b[?25hCollecting protobuf==3.19.5\n",
            "  Downloading protobuf-3.19.5-cp37-cp37m-manylinux_2_17_x86_64.manylinux2014_x86_64.whl (1.1 MB)\n",
            "\u001b[K     |████████████████████████████████| 1.1 MB 59.6 MB/s \n",
            "\u001b[?25hCollecting lru-dict<2.0.0,>=1.1.6\n",
            "  Downloading lru_dict-1.1.8-cp37-cp37m-manylinux_2_5_x86_64.manylinux1_x86_64.manylinux_2_17_x86_64.manylinux2014_x86_64.whl (26 kB)\n",
            "Collecting multiaddr>=0.0.7\n",
            "  Downloading multiaddr-0.0.9-py2.py3-none-any.whl (16 kB)\n",
            "Requirement already satisfied: aiosignal>=1.1.2 in /usr/local/lib/python3.7/dist-packages (from aiohttp<4,>=3.7.4.post0->Web3) (1.3.1)\n",
            "Requirement already satisfied: multidict<7.0,>=4.5 in /usr/local/lib/python3.7/dist-packages (from aiohttp<4,>=3.7.4.post0->Web3) (6.0.2)\n",
            "Requirement already satisfied: asynctest==0.13.0 in /usr/local/lib/python3.7/dist-packages (from aiohttp<4,>=3.7.4.post0->Web3) (0.13.0)\n",
            "Requirement already satisfied: charset-normalizer<3.0,>=2.0 in /usr/local/lib/python3.7/dist-packages (from aiohttp<4,>=3.7.4.post0->Web3) (2.1.1)\n",
            "Requirement already satisfied: yarl<2.0,>=1.0 in /usr/local/lib/python3.7/dist-packages (from aiohttp<4,>=3.7.4.post0->Web3) (1.8.1)\n",
            "Requirement already satisfied: async-timeout<5.0,>=4.0.0a3 in /usr/local/lib/python3.7/dist-packages (from aiohttp<4,>=3.7.4.post0->Web3) (4.0.2)\n",
            "Requirement already satisfied: frozenlist>=1.1.1 in /usr/local/lib/python3.7/dist-packages (from aiohttp<4,>=3.7.4.post0->Web3) (1.3.3)\n",
            "Requirement already satisfied: attrs>=17.3.0 in /usr/local/lib/python3.7/dist-packages (from aiohttp<4,>=3.7.4.post0->Web3) (22.1.0)\n",
            "Collecting parsimonious<0.9.0,>=0.8.0\n",
            "  Downloading parsimonious-0.8.1.tar.gz (45 kB)\n",
            "\u001b[K     |████████████████████████████████| 45 kB 3.3 MB/s \n",
            "\u001b[?25hCollecting eth-keyfile<0.6.0,>=0.5.0\n",
            "  Downloading eth_keyfile-0.5.1-py3-none-any.whl (8.3 kB)\n",
            "Collecting eth-keys<0.4.0,>=0.3.4\n",
            "  Downloading eth_keys-0.3.4-py3-none-any.whl (21 kB)\n",
            "Collecting rlp<3,>=1.0.0\n",
            "  Downloading rlp-2.0.1-py2.py3-none-any.whl (20 kB)\n",
            "Collecting bitarray<3,>=1.2.1\n",
            "  Downloading bitarray-2.6.0-cp37-cp37m-manylinux_2_17_x86_64.manylinux2014_x86_64.whl (235 kB)\n",
            "\u001b[K     |████████████████████████████████| 235 kB 59.2 MB/s \n",
            "\u001b[?25hCollecting pycryptodome<4,>=3.6.6\n",
            "  Downloading pycryptodome-3.15.0-cp35-abi3-manylinux2010_x86_64.whl (2.3 MB)\n",
            "\u001b[K     |████████████████████████████████| 2.3 MB 52.3 MB/s \n",
            "\u001b[?25hCollecting cytoolz<1.0.0,>=0.9.0\n",
            "  Downloading cytoolz-0.12.0-cp37-cp37m-manylinux_2_17_x86_64.manylinux2014_x86_64.whl (1.6 MB)\n",
            "\u001b[K     |████████████████████████████████| 1.6 MB 64.0 MB/s \n",
            "\u001b[?25hRequirement already satisfied: toolz>=0.8.0 in /usr/local/lib/python3.7/dist-packages (from cytoolz<1.0.0,>=0.9.0->eth-keyfile<0.6.0,>=0.5.0->eth-account<0.6.0,>=0.5.9->Web3) (0.12.0)\n",
            "Collecting eth-utils<2.0.0,>=1.9.5\n",
            "  Downloading eth_utils-1.9.5-py3-none-any.whl (23 kB)\n",
            "Requirement already satisfied: importlib-resources>=1.4.0 in /usr/local/lib/python3.7/dist-packages (from jsonschema<5,>=3.2.0->Web3) (5.10.0)\n",
            "Requirement already satisfied: importlib-metadata in /usr/local/lib/python3.7/dist-packages (from jsonschema<5,>=3.2.0->Web3) (4.13.0)\n",
            "Requirement already satisfied: pyrsistent!=0.17.0,!=0.17.1,!=0.17.2,>=0.14.0 in /usr/local/lib/python3.7/dist-packages (from jsonschema<5,>=3.2.0->Web3) (0.19.2)\n",
            "Requirement already satisfied: zipp>=3.1.0 in /usr/local/lib/python3.7/dist-packages (from importlib-resources>=1.4.0->jsonschema<5,>=3.2.0->Web3) (3.10.0)\n",
            "Collecting netaddr\n",
            "  Downloading netaddr-0.8.0-py2.py3-none-any.whl (1.9 MB)\n",
            "\u001b[K     |████████████████████████████████| 1.9 MB 41.8 MB/s \n",
            "\u001b[?25hCollecting base58\n",
            "  Downloading base58-2.1.1-py3-none-any.whl (5.6 kB)\n",
            "Collecting varint\n",
            "  Downloading varint-1.0.2.tar.gz (1.9 kB)\n",
            "Requirement already satisfied: six in /usr/local/lib/python3.7/dist-packages (from multiaddr>=0.0.7->ipfshttpclient==0.8.0a2->Web3) (1.15.0)\n",
            "Requirement already satisfied: urllib3!=1.25.0,!=1.25.1,<1.26,>=1.21.1 in /usr/local/lib/python3.7/dist-packages (from requests<3.0.0,>=2.16.0->Web3) (1.24.3)\n",
            "Requirement already satisfied: idna<3,>=2.5 in /usr/local/lib/python3.7/dist-packages (from requests<3.0.0,>=2.16.0->Web3) (2.10)\n",
            "Requirement already satisfied: certifi>=2017.4.17 in /usr/local/lib/python3.7/dist-packages (from requests<3.0.0,>=2.16.0->Web3) (2022.9.24)\n",
            "Requirement already satisfied: chardet<4,>=3.0.2 in /usr/local/lib/python3.7/dist-packages (from requests<3.0.0,>=2.16.0->Web3) (3.0.4)\n",
            "Building wheels for collected packages: parsimonious, varint\n",
            "  Building wheel for parsimonious (setup.py) ... \u001b[?25l\u001b[?25hdone\n",
            "  Created wheel for parsimonious: filename=parsimonious-0.8.1-py3-none-any.whl size=42725 sha256=c7fac6dbbebf7f0794411e453abae1827c1410cbb1e0a8e49d9bc4849745654b\n",
            "  Stored in directory: /root/.cache/pip/wheels/88/5d/ba/f27d8af07306b65ee44f9d3f9cadea1db749a421a6db8a99bf\n",
            "  Building wheel for varint (setup.py) ... \u001b[?25l\u001b[?25hdone\n",
            "  Created wheel for varint: filename=varint-1.0.2-py3-none-any.whl size=1978 sha256=00382364a1decc1f05f6ba77c2ee73865ab8544cc56ad5a91017f1cb264d4622\n",
            "  Stored in directory: /root/.cache/pip/wheels/69/21/07/09f1c6a7d9b59377aa6d98da6efdd670f7ca40aabd93d02704\n",
            "Successfully built parsimonious varint\n",
            "Installing collected packages: eth-typing, eth-hash, cytoolz, eth-utils, varint, rlp, pycryptodome, parsimonious, netaddr, hexbytes, eth-keys, base58, multiaddr, eth-rlp, eth-keyfile, eth-abi, bitarray, websockets, protobuf, lru-dict, ipfshttpclient, eth-account, Web3\n",
            "  Attempting uninstall: protobuf\n",
            "    Found existing installation: protobuf 3.19.6\n",
            "    Uninstalling protobuf-3.19.6:\n",
            "      Successfully uninstalled protobuf-3.19.6\n",
            "Successfully installed Web3-5.31.1 base58-2.1.1 bitarray-2.6.0 cytoolz-0.12.0 eth-abi-2.2.0 eth-account-0.5.9 eth-hash-0.5.1 eth-keyfile-0.5.1 eth-keys-0.3.4 eth-rlp-0.2.1 eth-typing-2.3.0 eth-utils-1.9.5 hexbytes-0.3.0 ipfshttpclient-0.8.0a2 lru-dict-1.1.8 multiaddr-0.0.9 netaddr-0.8.0 parsimonious-0.8.1 protobuf-3.19.5 pycryptodome-3.15.0 rlp-2.0.1 varint-1.0.2 websockets-9.1\n"
          ]
        },
        {
          "output_type": "display_data",
          "data": {
            "application/vnd.colab-display-data+json": {
              "pip_warning": {
                "packages": [
                  "google"
                ]
              }
            }
          },
          "metadata": {}
        }
      ],
      "source": [
        "!pip install Web3"
      ]
    },
    {
      "cell_type": "code",
      "source": [
        "!pip install eth_tester"
      ],
      "metadata": {
        "colab": {
          "base_uri": "https://localhost:8080/"
        },
        "id": "fOQyQ6HkvqU0",
        "outputId": "21afb203-4373-4d13-8f76-71122de52a37"
      },
      "execution_count": 1,
      "outputs": [
        {
          "output_type": "stream",
          "name": "stdout",
          "text": [
            "Looking in indexes: https://pypi.org/simple, https://us-python.pkg.dev/colab-wheels/public/simple/\n",
            "Collecting eth_tester\n",
            "  Downloading eth_tester-0.8.0b1-py3-none-any.whl (70 kB)\n",
            "\u001b[K     |████████████████████████████████| 70 kB 6.9 MB/s \n",
            "\u001b[?25hCollecting eth-abi>=3.0.1\n",
            "  Downloading eth_abi-3.0.1-py3-none-any.whl (28 kB)\n",
            "Collecting rlp<4,>=3.0.0\n",
            "  Downloading rlp-3.0.0-py2.py3-none-any.whl (20 kB)\n",
            "Collecting eth-keys<0.5.0,>=0.4.0\n",
            "  Downloading eth_keys-0.4.0-py3-none-any.whl (21 kB)\n",
            "Collecting eth-utils<3.0.0,>=2.0.0\n",
            "  Downloading eth_utils-2.1.0-py3-none-any.whl (24 kB)\n",
            "Collecting semantic-version<3.0.0,>=2.6.0\n",
            "  Downloading semantic_version-2.10.0-py2.py3-none-any.whl (15 kB)\n",
            "Collecting eth-account<0.8.0,>=0.6.0\n",
            "  Downloading eth_account-0.7.0-py3-none-any.whl (102 kB)\n",
            "\u001b[K     |████████████████████████████████| 102 kB 46.7 MB/s \n",
            "\u001b[?25hRequirement already satisfied: parsimonious<0.9.0,>=0.8.0 in /usr/local/lib/python3.7/dist-packages (from eth-abi>=3.0.1->eth_tester) (0.8.1)\n",
            "Collecting eth-typing<4.0.0,>=3.0.0\n",
            "  Downloading eth_typing-3.2.0-py3-none-any.whl (6.3 kB)\n",
            "Collecting eth-keyfile<0.7.0,>=0.6.0\n",
            "  Downloading eth_keyfile-0.6.0-py3-none-any.whl (6.6 kB)\n",
            "Collecting eth-rlp<1,>=0.3.0\n",
            "  Downloading eth_rlp-0.3.0-py3-none-any.whl (5.0 kB)\n",
            "Requirement already satisfied: bitarray<3,>=2.4.0 in /usr/local/lib/python3.7/dist-packages (from eth-account<0.8.0,>=0.6.0->eth_tester) (2.6.0)\n",
            "Requirement already satisfied: hexbytes<1,>=0.1.0 in /usr/local/lib/python3.7/dist-packages (from eth-account<0.8.0,>=0.6.0->eth_tester) (0.3.0)\n",
            "Requirement already satisfied: pycryptodome<4,>=3.6.6 in /usr/local/lib/python3.7/dist-packages (from eth-keyfile<0.7.0,>=0.6.0->eth-account<0.8.0,>=0.6.0->eth_tester) (3.15.0)\n",
            "Requirement already satisfied: cached-property<2,>=1.5.2 in /usr/local/lib/python3.7/dist-packages (from eth-utils<3.0.0,>=2.0.0->eth_tester) (1.5.2)\n",
            "Requirement already satisfied: cytoolz>=0.10.1 in /usr/local/lib/python3.7/dist-packages (from eth-utils<3.0.0,>=2.0.0->eth_tester) (0.12.0)\n",
            "Requirement already satisfied: eth-hash>=0.3.1 in /usr/local/lib/python3.7/dist-packages (from eth-utils<3.0.0,>=2.0.0->eth_tester) (0.5.1)\n",
            "Requirement already satisfied: toolz>=0.8.0 in /usr/local/lib/python3.7/dist-packages (from cytoolz>=0.10.1->eth-utils<3.0.0,>=2.0.0->eth_tester) (0.12.0)\n",
            "Requirement already satisfied: six>=1.9.0 in /usr/local/lib/python3.7/dist-packages (from parsimonious<0.9.0,>=0.8.0->eth-abi>=3.0.1->eth_tester) (1.15.0)\n",
            "Installing collected packages: eth-typing, eth-utils, rlp, eth-keys, eth-rlp, eth-keyfile, eth-abi, semantic-version, eth-account, eth-tester\n",
            "  Attempting uninstall: eth-typing\n",
            "    Found existing installation: eth-typing 2.3.0\n",
            "    Uninstalling eth-typing-2.3.0:\n",
            "      Successfully uninstalled eth-typing-2.3.0\n",
            "  Attempting uninstall: eth-utils\n",
            "    Found existing installation: eth-utils 1.9.5\n",
            "    Uninstalling eth-utils-1.9.5:\n",
            "      Successfully uninstalled eth-utils-1.9.5\n",
            "  Attempting uninstall: rlp\n",
            "    Found existing installation: rlp 2.0.1\n",
            "    Uninstalling rlp-2.0.1:\n",
            "      Successfully uninstalled rlp-2.0.1\n",
            "  Attempting uninstall: eth-keys\n",
            "    Found existing installation: eth-keys 0.3.4\n",
            "    Uninstalling eth-keys-0.3.4:\n",
            "      Successfully uninstalled eth-keys-0.3.4\n",
            "  Attempting uninstall: eth-rlp\n",
            "    Found existing installation: eth-rlp 0.2.1\n",
            "    Uninstalling eth-rlp-0.2.1:\n",
            "      Successfully uninstalled eth-rlp-0.2.1\n",
            "  Attempting uninstall: eth-keyfile\n",
            "    Found existing installation: eth-keyfile 0.5.1\n",
            "    Uninstalling eth-keyfile-0.5.1:\n",
            "      Successfully uninstalled eth-keyfile-0.5.1\n",
            "  Attempting uninstall: eth-abi\n",
            "    Found existing installation: eth-abi 2.2.0\n",
            "    Uninstalling eth-abi-2.2.0:\n",
            "      Successfully uninstalled eth-abi-2.2.0\n",
            "  Attempting uninstall: eth-account\n",
            "    Found existing installation: eth-account 0.5.9\n",
            "    Uninstalling eth-account-0.5.9:\n",
            "      Successfully uninstalled eth-account-0.5.9\n",
            "\u001b[31mERROR: pip's dependency resolver does not currently take into account all the packages that are installed. This behaviour is the source of the following dependency conflicts.\n",
            "web3 5.31.1 requires eth-abi<3.0.0,>=2.0.0b6, but you have eth-abi 3.0.1 which is incompatible.\n",
            "web3 5.31.1 requires eth-account<0.6.0,>=0.5.9, but you have eth-account 0.7.0 which is incompatible.\n",
            "web3 5.31.1 requires eth-rlp<0.3, but you have eth-rlp 0.3.0 which is incompatible.\n",
            "web3 5.31.1 requires eth-typing<3.0.0,>=2.0.0, but you have eth-typing 3.2.0 which is incompatible.\n",
            "web3 5.31.1 requires eth-utils<2.0.0,>=1.9.5, but you have eth-utils 2.1.0 which is incompatible.\u001b[0m\n",
            "Successfully installed eth-abi-3.0.1 eth-account-0.7.0 eth-keyfile-0.6.0 eth-keys-0.4.0 eth-rlp-0.3.0 eth-tester-0.8.0b1 eth-typing-3.2.0 eth-utils-2.1.0 rlp-3.0.0 semantic-version-2.10.0\n"
          ]
        }
      ]
    },
    {
      "cell_type": "code",
      "source": [
        "!pip install \"web3[tester]\""
      ],
      "metadata": {
        "colab": {
          "base_uri": "https://localhost:8080/",
          "height": 1000
        },
        "id": "PLOSo7WayAYk",
        "outputId": "fd021fc6-a6d7-406b-d8ab-387f15f58cd8"
      },
      "execution_count": 2,
      "outputs": [
        {
          "output_type": "stream",
          "name": "stdout",
          "text": [
            "Looking in indexes: https://pypi.org/simple, https://us-python.pkg.dev/colab-wheels/public/simple/\n",
            "Requirement already satisfied: web3[tester] in /usr/local/lib/python3.7/dist-packages (5.31.1)\n",
            "Collecting eth-typing<3.0.0,>=2.0.0\n",
            "  Using cached eth_typing-2.3.0-py3-none-any.whl (6.2 kB)\n",
            "Requirement already satisfied: lru-dict<2.0.0,>=1.1.6 in /usr/local/lib/python3.7/dist-packages (from web3[tester]) (1.1.8)\n",
            "Requirement already satisfied: protobuf==3.19.5 in /usr/local/lib/python3.7/dist-packages (from web3[tester]) (3.19.5)\n",
            "Requirement already satisfied: hexbytes<1.0.0,>=0.1.0 in /usr/local/lib/python3.7/dist-packages (from web3[tester]) (0.3.0)\n",
            "Collecting eth-utils<2.0.0,>=1.9.5\n",
            "  Using cached eth_utils-1.10.0-py3-none-any.whl (24 kB)\n",
            "Requirement already satisfied: websockets<10,>=9.1 in /usr/local/lib/python3.7/dist-packages (from web3[tester]) (9.1)\n",
            "Collecting eth-abi<3.0.0,>=2.0.0b6\n",
            "  Using cached eth_abi-2.2.0-py3-none-any.whl (28 kB)\n",
            "Requirement already satisfied: aiohttp<4,>=3.7.4.post0 in /usr/local/lib/python3.7/dist-packages (from web3[tester]) (3.8.3)\n",
            "Requirement already satisfied: requests<3.0.0,>=2.16.0 in /usr/local/lib/python3.7/dist-packages (from web3[tester]) (2.23.0)\n",
            "Requirement already satisfied: ipfshttpclient==0.8.0a2 in /usr/local/lib/python3.7/dist-packages (from web3[tester]) (0.8.0a2)\n",
            "Collecting eth-account<0.6.0,>=0.5.9\n",
            "  Using cached eth_account-0.5.9-py3-none-any.whl (101 kB)\n",
            "Requirement already satisfied: jsonschema<5,>=3.2.0 in /usr/local/lib/python3.7/dist-packages (from web3[tester]) (4.3.3)\n",
            "Collecting eth-rlp<0.3\n",
            "  Using cached eth_rlp-0.2.1-py3-none-any.whl (5.0 kB)\n",
            "Requirement already satisfied: eth-hash[pycryptodome]<1.0.0,>=0.2.0 in /usr/local/lib/python3.7/dist-packages (from web3[tester]) (0.5.1)\n",
            "Requirement already satisfied: typing-extensions<5,>=3.7.4.1 in /usr/local/lib/python3.7/dist-packages (from web3[tester]) (4.1.1)\n",
            "Collecting eth-tester[py-evm]==v0.6.0-beta.6\n",
            "  Downloading eth_tester-0.6.0b6-py3-none-any.whl (69 kB)\n",
            "\u001b[K     |████████████████████████████████| 69 kB 6.8 MB/s \n",
            "\u001b[?25hCollecting py-geth<4,>=3.9.1\n",
            "  Downloading py_geth-3.10.0-py3-none-any.whl (24 kB)\n",
            "Collecting eth-keys<0.4.0,>=0.3.4\n",
            "  Using cached eth_keys-0.3.4-py3-none-any.whl (21 kB)\n",
            "Collecting rlp<3,>=1.1.0\n",
            "  Using cached rlp-2.0.1-py2.py3-none-any.whl (20 kB)\n",
            "Requirement already satisfied: semantic-version<3.0.0,>=2.6.0 in /usr/local/lib/python3.7/dist-packages (from eth-tester[py-evm]==v0.6.0-beta.6->web3[tester]) (2.10.0)\n",
            "Collecting py-evm==0.5.0a3\n",
            "  Downloading py_evm-0.5.0a3-py3-none-any.whl (276 kB)\n",
            "\u001b[K     |████████████████████████████████| 276 kB 55.4 MB/s \n",
            "\u001b[?25hRequirement already satisfied: multiaddr>=0.0.7 in /usr/local/lib/python3.7/dist-packages (from ipfshttpclient==0.8.0a2->web3[tester]) (0.0.9)\n",
            "Collecting trie==2.0.0-alpha.5\n",
            "  Downloading trie-2.0.0a5-py3-none-any.whl (38 kB)\n",
            "Collecting mypy-extensions<1.0.0,>=0.4.1\n",
            "  Downloading mypy_extensions-0.4.3-py2.py3-none-any.whl (4.5 kB)\n",
            "Requirement already satisfied: cached-property<2,>=1.5.1 in /usr/local/lib/python3.7/dist-packages (from py-evm==0.5.0a3->eth-tester[py-evm]==v0.6.0-beta.6->web3[tester]) (1.5.2)\n",
            "Collecting eth-bloom<2.0.0,>=1.0.3\n",
            "  Downloading eth_bloom-1.0.4-py3-none-any.whl (5.4 kB)\n",
            "Collecting pyethash<1.0.0,>=0.1.27\n",
            "  Downloading pyethash-0.1.27.tar.gz (38 kB)\n",
            "Collecting py-ecc<6.0.0,>=1.4.7\n",
            "  Downloading py_ecc-5.2.0-py3-none-any.whl (43 kB)\n",
            "\u001b[K     |████████████████████████████████| 43 kB 2.0 MB/s \n",
            "\u001b[?25hCollecting hexbytes<1.0.0,>=0.1.0\n",
            "  Downloading hexbytes-0.2.3-py3-none-any.whl (6.4 kB)\n",
            "Collecting typing-extensions<5,>=3.7.4.1\n",
            "  Downloading typing_extensions-3.10.0.2-py3-none-any.whl (26 kB)\n",
            "Requirement already satisfied: sortedcontainers<3,>=2.1.0 in /usr/local/lib/python3.7/dist-packages (from trie==2.0.0-alpha.5->py-evm==0.5.0a3->eth-tester[py-evm]==v0.6.0-beta.6->web3[tester]) (2.4.0)\n",
            "Requirement already satisfied: frozenlist>=1.1.1 in /usr/local/lib/python3.7/dist-packages (from aiohttp<4,>=3.7.4.post0->web3[tester]) (1.3.3)\n",
            "Requirement already satisfied: aiosignal>=1.1.2 in /usr/local/lib/python3.7/dist-packages (from aiohttp<4,>=3.7.4.post0->web3[tester]) (1.3.1)\n",
            "Requirement already satisfied: asynctest==0.13.0 in /usr/local/lib/python3.7/dist-packages (from aiohttp<4,>=3.7.4.post0->web3[tester]) (0.13.0)\n",
            "Requirement already satisfied: multidict<7.0,>=4.5 in /usr/local/lib/python3.7/dist-packages (from aiohttp<4,>=3.7.4.post0->web3[tester]) (6.0.2)\n",
            "Requirement already satisfied: attrs>=17.3.0 in /usr/local/lib/python3.7/dist-packages (from aiohttp<4,>=3.7.4.post0->web3[tester]) (22.1.0)\n",
            "Requirement already satisfied: charset-normalizer<3.0,>=2.0 in /usr/local/lib/python3.7/dist-packages (from aiohttp<4,>=3.7.4.post0->web3[tester]) (2.1.1)\n",
            "Requirement already satisfied: async-timeout<5.0,>=4.0.0a3 in /usr/local/lib/python3.7/dist-packages (from aiohttp<4,>=3.7.4.post0->web3[tester]) (4.0.2)\n",
            "Requirement already satisfied: yarl<2.0,>=1.0 in /usr/local/lib/python3.7/dist-packages (from aiohttp<4,>=3.7.4.post0->web3[tester]) (1.8.1)\n",
            "Requirement already satisfied: parsimonious<0.9.0,>=0.8.0 in /usr/local/lib/python3.7/dist-packages (from eth-abi<3.0.0,>=2.0.0b6->web3[tester]) (0.8.1)\n",
            "Requirement already satisfied: bitarray<3,>=1.2.1 in /usr/local/lib/python3.7/dist-packages (from eth-account<0.6.0,>=0.5.9->web3[tester]) (2.6.0)\n",
            "Collecting eth-keyfile<0.6.0,>=0.5.0\n",
            "  Using cached eth_keyfile-0.5.1-py3-none-any.whl (8.3 kB)\n",
            "Collecting eth-hash[pycryptodome]<1.0.0,>=0.2.0\n",
            "  Downloading eth_hash-0.3.3-py3-none-any.whl (8.9 kB)\n",
            "Requirement already satisfied: pycryptodome<4,>=3.6.6 in /usr/local/lib/python3.7/dist-packages (from eth-hash[pycryptodome]<1.0.0,>=0.2.0->web3[tester]) (3.15.0)\n",
            "Collecting eth-hash[pysha3]<1.0.0,>=0.1.4\n",
            "  Downloading eth_hash-0.5.0-py3-none-any.whl (8.9 kB)\n",
            "  Downloading eth_hash-0.4.0-py3-none-any.whl (9.0 kB)\n",
            "Collecting pysha3<2.0.0,>=1.0.0\n",
            "  Downloading pysha3-1.0.2.tar.gz (829 kB)\n",
            "\u001b[K     |████████████████████████████████| 829 kB 45.4 MB/s \n",
            "\u001b[?25hRequirement already satisfied: cytoolz<1.0.0,>=0.9.0 in /usr/local/lib/python3.7/dist-packages (from eth-keyfile<0.6.0,>=0.5.0->eth-account<0.6.0,>=0.5.9->web3[tester]) (0.12.0)\n",
            "Requirement already satisfied: toolz>=0.8.0 in /usr/local/lib/python3.7/dist-packages (from cytoolz<1.0.0,>=0.9.0->eth-keyfile<0.6.0,>=0.5.0->eth-account<0.6.0,>=0.5.9->web3[tester]) (0.12.0)\n",
            "Requirement already satisfied: pyrsistent!=0.17.0,!=0.17.1,!=0.17.2,>=0.14.0 in /usr/local/lib/python3.7/dist-packages (from jsonschema<5,>=3.2.0->web3[tester]) (0.19.2)\n",
            "Requirement already satisfied: importlib-resources>=1.4.0 in /usr/local/lib/python3.7/dist-packages (from jsonschema<5,>=3.2.0->web3[tester]) (5.10.0)\n",
            "Requirement already satisfied: importlib-metadata in /usr/local/lib/python3.7/dist-packages (from jsonschema<5,>=3.2.0->web3[tester]) (4.13.0)\n",
            "Requirement already satisfied: zipp>=3.1.0 in /usr/local/lib/python3.7/dist-packages (from importlib-resources>=1.4.0->jsonschema<5,>=3.2.0->web3[tester]) (3.10.0)\n",
            "Requirement already satisfied: base58 in /usr/local/lib/python3.7/dist-packages (from multiaddr>=0.0.7->ipfshttpclient==0.8.0a2->web3[tester]) (2.1.1)\n",
            "Requirement already satisfied: six in /usr/local/lib/python3.7/dist-packages (from multiaddr>=0.0.7->ipfshttpclient==0.8.0a2->web3[tester]) (1.15.0)\n",
            "Requirement already satisfied: varint in /usr/local/lib/python3.7/dist-packages (from multiaddr>=0.0.7->ipfshttpclient==0.8.0a2->web3[tester]) (1.0.2)\n",
            "Requirement already satisfied: netaddr in /usr/local/lib/python3.7/dist-packages (from multiaddr>=0.0.7->ipfshttpclient==0.8.0a2->web3[tester]) (0.8.0)\n",
            "Requirement already satisfied: certifi>=2017.4.17 in /usr/local/lib/python3.7/dist-packages (from requests<3.0.0,>=2.16.0->web3[tester]) (2022.9.24)\n",
            "Requirement already satisfied: idna<3,>=2.5 in /usr/local/lib/python3.7/dist-packages (from requests<3.0.0,>=2.16.0->web3[tester]) (2.10)\n",
            "Requirement already satisfied: urllib3!=1.25.0,!=1.25.1,<1.26,>=1.21.1 in /usr/local/lib/python3.7/dist-packages (from requests<3.0.0,>=2.16.0->web3[tester]) (1.24.3)\n",
            "Requirement already satisfied: chardet<4,>=3.0.2 in /usr/local/lib/python3.7/dist-packages (from requests<3.0.0,>=2.16.0->web3[tester]) (3.0.4)\n",
            "Building wheels for collected packages: pyethash, pysha3\n",
            "  Building wheel for pyethash (setup.py) ... \u001b[?25l\u001b[?25hdone\n",
            "  Created wheel for pyethash: filename=pyethash-0.1.27-cp37-cp37m-linux_x86_64.whl size=51995 sha256=edac3fb80cb817dc0a465f6200162c127fae3dd4c9fa287f60932a37e737c925\n",
            "  Stored in directory: /root/.cache/pip/wheels/01/ce/8f/3604e244cd91a6852b37ca0ab6eada34106081b001bdf6d487\n",
            "  Building wheel for pysha3 (setup.py) ... \u001b[?25l\u001b[?25hdone\n",
            "  Created wheel for pysha3: filename=pysha3-1.0.2-cp37-cp37m-linux_x86_64.whl size=133601 sha256=d37fd14aae097296e9f9d9664c417fe4b7765e61ad1a395b72c346775ff5e43c\n",
            "  Stored in directory: /root/.cache/pip/wheels/0d/9e/bc/789fa0986c1fef30cafcc29da4dd07bc17ecba3fab78e27ed6\n",
            "Successfully built pyethash pysha3\n",
            "Installing collected packages: eth-typing, eth-hash, eth-utils, rlp, hexbytes, eth-keys, typing-extensions, mypy-extensions, eth-rlp, eth-keyfile, eth-abi, trie, pysha3, pyethash, py-ecc, eth-bloom, eth-account, py-evm, eth-tester, py-geth\n",
            "  Attempting uninstall: eth-typing\n",
            "    Found existing installation: eth-typing 3.2.0\n",
            "    Uninstalling eth-typing-3.2.0:\n",
            "      Successfully uninstalled eth-typing-3.2.0\n",
            "  Attempting uninstall: eth-hash\n",
            "    Found existing installation: eth-hash 0.5.1\n",
            "    Uninstalling eth-hash-0.5.1:\n",
            "      Successfully uninstalled eth-hash-0.5.1\n",
            "  Attempting uninstall: eth-utils\n",
            "    Found existing installation: eth-utils 2.1.0\n",
            "    Uninstalling eth-utils-2.1.0:\n",
            "      Successfully uninstalled eth-utils-2.1.0\n",
            "  Attempting uninstall: rlp\n",
            "    Found existing installation: rlp 3.0.0\n",
            "    Uninstalling rlp-3.0.0:\n",
            "      Successfully uninstalled rlp-3.0.0\n",
            "  Attempting uninstall: hexbytes\n",
            "    Found existing installation: hexbytes 0.3.0\n",
            "    Uninstalling hexbytes-0.3.0:\n",
            "      Successfully uninstalled hexbytes-0.3.0\n",
            "  Attempting uninstall: eth-keys\n",
            "    Found existing installation: eth-keys 0.4.0\n",
            "    Uninstalling eth-keys-0.4.0:\n",
            "      Successfully uninstalled eth-keys-0.4.0\n",
            "  Attempting uninstall: typing-extensions\n",
            "    Found existing installation: typing-extensions 4.1.1\n",
            "    Uninstalling typing-extensions-4.1.1:\n",
            "      Successfully uninstalled typing-extensions-4.1.1\n",
            "  Attempting uninstall: eth-rlp\n",
            "    Found existing installation: eth-rlp 0.3.0\n",
            "    Uninstalling eth-rlp-0.3.0:\n",
            "      Successfully uninstalled eth-rlp-0.3.0\n",
            "  Attempting uninstall: eth-keyfile\n",
            "    Found existing installation: eth-keyfile 0.6.0\n",
            "    Uninstalling eth-keyfile-0.6.0:\n",
            "      Successfully uninstalled eth-keyfile-0.6.0\n",
            "  Attempting uninstall: eth-abi\n",
            "    Found existing installation: eth-abi 3.0.1\n",
            "    Uninstalling eth-abi-3.0.1:\n",
            "      Successfully uninstalled eth-abi-3.0.1\n",
            "  Attempting uninstall: eth-account\n",
            "    Found existing installation: eth-account 0.7.0\n",
            "    Uninstalling eth-account-0.7.0:\n",
            "      Successfully uninstalled eth-account-0.7.0\n",
            "  Attempting uninstall: eth-tester\n",
            "    Found existing installation: eth-tester 0.8.0b1\n",
            "    Uninstalling eth-tester-0.8.0b1:\n",
            "      Successfully uninstalled eth-tester-0.8.0b1\n",
            "\u001b[31mERROR: pip's dependency resolver does not currently take into account all the packages that are installed. This behaviour is the source of the following dependency conflicts.\n",
            "pydantic 1.10.2 requires typing-extensions>=4.1.0, but you have typing-extensions 3.10.0.2 which is incompatible.\u001b[0m\n",
            "Successfully installed eth-abi-2.2.0 eth-account-0.5.9 eth-bloom-1.0.4 eth-hash-0.3.3 eth-keyfile-0.5.1 eth-keys-0.3.4 eth-rlp-0.2.1 eth-tester-0.6.0b6 eth-typing-2.3.0 eth-utils-1.10.0 hexbytes-0.2.3 mypy-extensions-0.4.3 py-ecc-5.2.0 py-evm-0.5.0a3 py-geth-3.10.0 pyethash-0.1.27 pysha3-1.0.2 rlp-2.0.1 trie-2.0.0a5 typing-extensions-3.10.0.2\n"
          ]
        },
        {
          "output_type": "display_data",
          "data": {
            "application/vnd.colab-display-data+json": {
              "pip_warning": {
                "packages": [
                  "typing_extensions"
                ]
              }
            }
          },
          "metadata": {}
        }
      ]
    },
    {
      "cell_type": "code",
      "source": [
        "!pip install py-solc-x"
      ],
      "metadata": {
        "colab": {
          "base_uri": "https://localhost:8080/"
        },
        "id": "_iALHj_DyESR",
        "outputId": "86546eb0-688e-4856-f6be-d4406624fc55"
      },
      "execution_count": 1,
      "outputs": [
        {
          "output_type": "stream",
          "name": "stdout",
          "text": [
            "Looking in indexes: https://pypi.org/simple, https://us-python.pkg.dev/colab-wheels/public/simple/\n",
            "Collecting py-solc-x\n",
            "  Downloading py_solc_x-1.1.1-py3-none-any.whl (15 kB)\n",
            "Requirement already satisfied: semantic-version<3,>=2.8.1 in /usr/local/lib/python3.7/dist-packages (from py-solc-x) (2.10.0)\n",
            "Requirement already satisfied: requests<3,>=2.19.0 in /usr/local/lib/python3.7/dist-packages (from py-solc-x) (2.23.0)\n",
            "Requirement already satisfied: chardet<4,>=3.0.2 in /usr/local/lib/python3.7/dist-packages (from requests<3,>=2.19.0->py-solc-x) (3.0.4)\n",
            "Requirement already satisfied: certifi>=2017.4.17 in /usr/local/lib/python3.7/dist-packages (from requests<3,>=2.19.0->py-solc-x) (2022.9.24)\n",
            "Requirement already satisfied: urllib3!=1.25.0,!=1.25.1,<1.26,>=1.21.1 in /usr/local/lib/python3.7/dist-packages (from requests<3,>=2.19.0->py-solc-x) (1.24.3)\n",
            "Requirement already satisfied: idna<3,>=2.5 in /usr/local/lib/python3.7/dist-packages (from requests<3,>=2.19.0->py-solc-x) (2.10)\n",
            "Installing collected packages: py-solc-x\n",
            "Successfully installed py-solc-x-1.1.1\n"
          ]
        }
      ]
    },
    {
      "cell_type": "markdown",
      "metadata": {
        "id": "X6o8nr8NGdtE"
      },
      "source": [
        "#### Imports"
      ]
    },
    {
      "cell_type": "code",
      "execution_count": 7,
      "metadata": {
        "id": "f2p5UZWTGdtG",
        "colab": {
          "base_uri": "https://localhost:8080/"
        },
        "outputId": "151bff05-46ab-414a-df53-68f3a566ce20"
      },
      "outputs": [
        {
          "output_type": "execute_result",
          "data": {
            "text/plain": [
              "Version('0.8.17')"
            ]
          },
          "metadata": {},
          "execution_count": 7
        }
      ],
      "source": [
        "import pandas as pd\n",
        "import numpy as np\n",
        "import json\n",
        "from sklearn import preprocessing\n",
        "from sklearn.metrics import confusion_matrix\n",
        "from sklearn.linear_model import LogisticRegression\n",
        "from sklearn.model_selection import train_test_split\n",
        "from flask import Flask, Response, request, jsonify\n",
        "from web3 import Web3, HTTPProvider, EthereumTesterProvider\n",
        "from solcx import install_solc, compile_source\n",
        "\n",
        "install_solc(version='latest')"
      ]
    },
    {
      "cell_type": "markdown",
      "metadata": {
        "id": "Sl3bveQnGdtN"
      },
      "source": [
        "# How to share configuration\n",
        "\n",
        "Decide on the configuration that should be used by owner ,user, as well as splitting the data to be used by each."
      ]
    },
    {
      "cell_type": "markdown",
      "metadata": {
        "id": "lJhLWF25GdtO"
      },
      "source": [
        "#### Data"
      ]
    },
    {
      "cell_type": "code",
      "source": [
        "df = pd.read_csv('uci_malware_detection.csv')"
      ],
      "metadata": {
        "id": "QN0j3H8zVRY-"
      },
      "execution_count": 3,
      "outputs": []
    },
    {
      "cell_type": "code",
      "source": [
        "y = df[\"Label\"]\n",
        "X = df.drop(\"Label\", axis=1)\n",
        "\n",
        "X_train, X_test, y_train, y_test= train_test_split(X,y, test_size=0.2, random_state=42)"
      ],
      "metadata": {
        "id": "34PjK8smweBz"
      },
      "execution_count": 4,
      "outputs": []
    },
    {
      "cell_type": "markdown",
      "metadata": {
        "id": "FWhWO_ftGdtZ"
      },
      "source": [
        "#### Setting up configurations to access smart contract"
      ]
    },
    {
      "cell_type": "markdown",
      "source": [
        "Make sure you are connected to the blockchain (`w3.isConnected()` should return `True`)"
      ],
      "metadata": {
        "id": "oR-nOyYMjshP"
      }
    },
    {
      "cell_type": "code",
      "execution_count": 5,
      "metadata": {
        "colab": {
          "base_uri": "https://localhost:8080/"
        },
        "id": "i6KtsskrJwOe",
        "outputId": "04624543-94b4-40d8-fa41-f98b76bae79e"
      },
      "outputs": [
        {
          "output_type": "execute_result",
          "data": {
            "text/plain": [
              "True"
            ]
          },
          "metadata": {},
          "execution_count": 5
        }
      ],
      "source": [
        "w3 = Web3(EthereumTesterProvider())\n",
        "w3.isConnected()"
      ]
    },
    {
      "cell_type": "code",
      "source": [
        "compiled_sol = compile_source(\n",
        "    '''\n",
        "    pragma solidity >0.5.0;\n",
        "\n",
        "    contract ModelParameters {\n",
        "        string public encoded;\n",
        "\n",
        "        constructor() public {\n",
        "            encoded = '';\n",
        "        }\n",
        "\n",
        "        function setModelParameters(string memory _encoded) public {\n",
        "            encoded = _encoded;\n",
        "        }\n",
        "\n",
        "        function getModelParameters() view public returns (string memory) {\n",
        "            return encoded;\n",
        "        }\n",
        "    }\n",
        "    ''',\n",
        "    output_values=['abi', 'bin']\n",
        ")\n",
        "\n",
        "contract_id, contract_interface = compiled_sol.popitem()\n",
        "bytecode = contract_interface['bin']\n",
        "abi = contract_interface['abi']\n",
        "\n",
        "ModelParameters = w3.eth.contract(abi=abi, bytecode=bytecode)\n",
        "\n",
        "tx_hash = ModelParameters.constructor().transact()\n",
        "tx_receipt = w3.eth.wait_for_transaction_receipt(tx_hash)\n",
        "\n",
        "ml_contract = w3.eth.contract(\n",
        "    address=tx_receipt.contractAddress,\n",
        "    abi=abi\n",
        ")"
      ],
      "metadata": {
        "id": "sNJmpLJc2Awr",
        "colab": {
          "base_uri": "https://localhost:8080/"
        },
        "outputId": "ab22d0ca-84dd-435a-98be-b4165972fc09"
      },
      "execution_count": 8,
      "outputs": [
        {
          "output_type": "stream",
          "name": "stderr",
          "text": [
            "/usr/local/lib/python3.7/dist-packages/eth_abi/codec.py:90: DeprecationWarning: abi.encode_abi() and abi.encode_abi_packed() are deprecated and will be removed in version 4.0.0 in favor of abi.encode() and abi.encode_packed(), respectively\n",
            "  category=DeprecationWarning,\n"
          ]
        }
      ]
    },
    {
      "cell_type": "markdown",
      "metadata": {
        "id": "bnBVRK8VGdtd"
      },
      "source": [
        "# Section 1: Miner\n",
        "\n",
        "This is the part that will be used by the miner. Here, the model is trained on private data, and the model parameters are uploaded to the smart contract. We should ensure that the address of the user uploading this data is the same as the owner of the smart contract."
      ]
    },
    {
      "cell_type": "markdown",
      "metadata": {
        "id": "7-NfNjdTGdte"
      },
      "source": [
        "### Training"
      ]
    },
    {
      "cell_type": "code",
      "execution_count": 9,
      "metadata": {
        "colab": {
          "base_uri": "https://localhost:8080/"
        },
        "id": "-WXJdeP2Gdtf",
        "outputId": "a1ba8ca7-8058-4e1c-cfcf-92ee16f45b9d"
      },
      "outputs": [
        {
          "output_type": "execute_result",
          "data": {
            "text/plain": [
              "LogisticRegression()"
            ]
          },
          "metadata": {},
          "execution_count": 9
        }
      ],
      "source": [
        "cls = LogisticRegression()\n",
        "cls.fit(X_train,y_train)"
      ]
    },
    {
      "cell_type": "code",
      "source": [
        "predictions = cls.predict(X_test);\n",
        "\n",
        "accuracy = np.sum(predictions == y_test) / y_test.shape[0] * 100\n",
        "conf_matrix = confusion_matrix(predictions, y_test)\n",
        "precision = conf_matrix[0,0] / (conf_matrix[0,0] + conf_matrix[0,1]) * 100\n",
        "\n",
        "print(conf_matrix)\n",
        "print(\"Accuracy: {0:.6f}%\".format(accuracy))\n",
        "print(\"Precision: {0:.6f}%\".format(precision))"
      ],
      "metadata": {
        "colab": {
          "base_uri": "https://localhost:8080/"
        },
        "id": "sjt0rjCW7Xn8",
        "outputId": "1bc271af-4d77-4943-825b-4b20e9b2e13a"
      },
      "execution_count": 10,
      "outputs": [
        {
          "output_type": "stream",
          "name": "stdout",
          "text": [
            "[[57  1]\n",
            " [ 1 16]]\n",
            "Accuracy: 97.333333%\n",
            "Precision: 98.275862%\n"
          ]
        }
      ]
    },
    {
      "cell_type": "markdown",
      "metadata": {
        "id": "mbp0k_jpGdti"
      },
      "source": [
        "### Encode model parameters to json"
      ]
    },
    {
      "cell_type": "code",
      "execution_count": 11,
      "metadata": {
        "colab": {
          "base_uri": "https://localhost:8080/",
          "height": 140
        },
        "id": "ijqMJC4hGdtl",
        "outputId": "b543bfce-2bc7-4a59-c3c3-281072636321"
      },
      "outputs": [
        {
          "output_type": "execute_result",
          "data": {
            "text/plain": [
              "'[[[-2.4489667504150466e-06, 0.0, -0.009180107023493629, 0.009177658056743216, -0.009180107023493629, 0.0, -0.009180107023493629, 0.0, -0.009180107023493629, 0.0, -0.07864359632019667, 0.0, 0.06618083460446468, 0.0, -0.06075611942196961, 0.0, 0.004764584219741587, 0.0, 0.28565366943949855, -0.3928409801894102, 0.15502346654336316, 0.0, 0.06709490791826057, 0.08792855862510263, 0.06709490791826057, -0.09819354919879178, 0.06709490791826057, 0.0, 0.15905875813496206, -0.1590612071017125, 0.15502346654336316, 0.0, 0.073545132874597, 0.0, 0.006083865640033722, 0.09242802300114442, -0.10160813002463805, 0.09242802300114442, -0.10160813002463805, 0.00016070178046719713, 0.0669342061377934, -0.1092356261523015, 0.0669342061377934, -0.07611431316128701, 0.0669342061377934, 0.08149383315723732, 0.18592066433841217, 0.024982255255052266, -0.2685168917673318, 0.25933678474383814, -0.2859004720606314, 0.1804390202229301, -0.26941510512244105, 0.00016070178046719713, 0.18663308138873613, 0.030406798744878102, -0.03958690576837174, 0.030406798744878102, -0.07451401497140908, 0.07451156600465865, -0.1186011124042397, 0.024982255255052266, 0.004764584219741587, 0.09291613972794838, 0.004764584219741587, 0.2405110473555556, -0.24051349632230604, 0.00886437128050063, 0.29063202622927714, 0.07114028453573362, 0.0059083826770061285, 0.011275504516027048, 0.06367977641596305, 0.011275504516027048, 0.08339595333903949, 0.006897213933137553, 0.004764584219741587, 0.02825588788898406, -0.028258336855734475, 0.02825588788898406, 0.004764584219741587, -0.004767033186492002, 0.004764584219741587, -0.013944691243235217, 0.004764584219741587, 0.007530135996948855, 0.004764584219741587, 0.0, -0.14897352913801265, 0.0, 0.006244567420500921, -0.006247016387251335, 0.006244567420500921, 0.03960122613534521, 0.010215588088202748, 0.0, 0.014977754405117116, -0.11447796135581556, 0.006244567420500921, 0.11736191839994473, 0.006244567420500921, -0.006247016387251335, 0.006244567420500921, 0.006050152796189521, 0.006244567420500921, 0.006050152796189521, -0.03695716060484755, 0.006050152796189521, 0.004764584219741587, 0.0014799832007593332, 0.16460204654065386, 0.0014799832007593332, 0.14535560070975556, 0.0014799832007593332, 0.004764584219741587, -0.17546501414291862, 0.015876182425316042, 0.0014799832007593332, 0.004764584219741587, 0.00479593945299731, 0.029348761418498265, 0.02197903125862735, -0.047846697512606395, 0.0014799832007593332, 0.001298958993226615, 0.025347988652903008, 0.14436648925357257, 0.09662870224701338, 0.11361025708777796, 0.0005728991002388913, 0.016610988092794286, -0.06608998539947089, 0.06608753643272047, 0.0005728991002388913, -0.12166905113382614, 0.01800657880055789, 0.005671668320262027, 0.09175783472771191, -0.34384286825476224, 0.31570235569030886, -0.2204101389759528, 0.006768500445971473, 0.06490217956129896, 0.00599012983261711, 0.00630459038407333, 0.08901743211062375, 0.00630459038407333, 0.007976637129932289, 0.026311108466596875, 0.008609559193743592, 0.005671668320262027, 0.006623051896428414, 0.031121217353780373, -0.031123666320530787, 0.031121217353780373, 0.08964862720034875, -0.1537935822031071, 0.019472757732947432, 0.005671668320262027, 0.03800023608501635, 0.07569516886942403, -0.2246686980074367, 0.03661598926146414, -0.03661843822821455, 0.03661598926146414, 0.00599012983261711, 0.00630459038407333, -0.006307039350823746, 0.00630459038407333, -0.092107372590409, 0.06100873130987779, 0.010879296808959847, 0.005671668320262027, 0.010177983589219373, 0.10727361171384255, 0.016474834265230984, 0.06047185602183215, 0.016474834265230984, -0.2916310931079611, 0.013136735661340455, 0.03538238877118983, -0.25618991679521386, 0.23011819312507795, 0.0, 0.004925286000208784, 0.12732425532775418, 0.011106808356627028, 0.0647950854324626, 0.12396603379768546, 0.0013192814202921362, 0.06812804630769684, 0.06180595298502404, -0.12905513709937058, 0.11987503007587698, 0.0055582080640200855, 0.1464861635707386, 0.004925286000208784, 0.01108457356102992, 0.004925286000208784, -0.17562571592338586, 0.004925286000208784, 0.10326676314681543, 0.07167948859757858, 0.0, -0.19564733126095124, 0.023242847178636276, -0.24558503089122127, 0.025496422487487187, 0.044625774253403895, 0.024821553474585072, 0.004764584219741587, 0.0640417138991339, -0.06404416286588432, 0.007530135996948855, 0.007529462130411124, 0.0336396839150938, 0.004764584219741587, 0.0014799832007593332, -0.010660090224252966, 0.0014799832007593332, 0.004764584219741587, 0.0014799832007593332, 0.004764584219741587, 0.0014799832007593332, 0.011095888265915682, 0.0051377374932387665, -0.1201465870888874, 0.003963709861444296, 0.011095888265915682, 0.0, -0.009180107023493629, 0.0, 0.011661798152879137, 0.08424548850510659, 0.02168748290959557, 0.059131007263311525, 0.07476690230487162, -0.08394700932836525, 0.006244567420500921, 0.06085034049775964, 0.0376615481434185, 0.11438282349134017, 0.006244567420500921, 0.006964226109985397, 0.060130681808275174, 0.030871706270774596, 0.006244567420500921, 0.00541723073237822, 0.010219661083047782, -0.268686774565713, 0.013774404049785277, 0.0, 0.006244567420500921, 0.07119569987780532, 0.03146693187670462, 0.006050152796189521, 0.00666472939025682, -0.025980817383784587, 0.006244567420500921, 0.07483364152035824, 0.01414202045756416, 0.006050152796189521, 0.004925286000208784, 0.06216962191805178, 0.004925286000208784, -0.2899333272117415, 0.004925286000208784, -0.09383706994101008, 0.004925286000208784, 0.0067365121526703564, 0.030171506152871657, 0.0067365121526703564, 0.004764584219741587, -0.0016389485845091408, -0.01668950211564904, 0.010872307595684411, 0.020294880619947345, 0.2430997309085212, 0.03130465045388822, -0.03130709942063865, 0.014413033807246046, -0.12670464521977734, 0.09579763741111928, 0.007969647916656854, 0.004764584219741587, 0.010331202027701247, 0.005678657533537461, 0.08262821917260778, 0.05895984351599084, -0.20793337265400347, 0.20793092368725308, 0.007530135996948855, 0.005837018203260888, 0.093784208764713, 0.004764584219741587, -0.16175894315628822, 0.023873799020691856, 0.11364657425131568, 0.004764584219741587, 0.08282326198776134, 0.08521420124751639, 0.14279380966150707, 0.005416856233504988, 0.02471979706492332, 0.09117701765722913, 0.007530135996948855, 0.004764584219741587, 0.02471979706492332, 0.04001304766107098, 0.0023940565145552086, 0.004764584219741587, 0.041121005870434206, 0.004764584219741587, 0.10663322537329849, 0.004764584219741587, 0.1750804357982067, 0.004764584219741587, 0.24782593042708023, 0.004764584219741587, -0.26495107195668915, 0.09425064203351209, 0.018160418521995198, -0.18776602829444047, 0.07998519864037308, 0.004764584219741587, 0.060198494730943256, 0.004764584219741587, 0.008602569980468159, 0.004764584219741587, -0.15042215710551626, 0.14124205008202262, 0.0023940565145552086, 0.033263265036602103, -0.19105448297643496, 0.004764584219741587, 0.03436314285606647, 0.004764584219741587, 0.006897213933137553, -0.12703695345151067, 0.006897213933137553, -0.0678978365623279, 0.006897213933137553, 0.10129483521388669, -0.14758807165736998, 0.004764584219741587, 0.026934458739155703, 0.005678657533537461, 0.03743099153225136, 0.005678657533537461, 0.042922210382413305, 0.004764584219741587, 0.14823922716429896, 0.02800743139837786, 0.018444642500583905, 0.004764584219741587, 0.006897213933137553, 0.0063115795973487645, 0.007571415207824271, 0.010181814952119807, -0.17546011641601397, 0.04620681140139554, 0.1742310259750174, 0.004764584219741587, 0.0100577488622472, 0.004764584219741587, -0.2343307461796592, 0.18828234540226216, 0.007530135996948855, -0.031127253892211416, 0.005564377144070678, 0.004764584219741587, 0.0014799832007593332, 0.07189617871225633, 0.0014799832007593332, 0.004764584219741587, 0.006897213933137553, 0.004764584219741587, -0.01026508036408785, 0.010262631397337432, -0.16316431547518304, 0.004764584219741587, 0.0014799832007593332, 0.07155634448415002, 0.11824307110994908, -0.2937742123132137, 0.08792367742910574, 0.029162490030045986, 0.12917344442778536, 0.015703903992273845, 0.12046452489618192, 0.014789830678477967, 0.0014799832007593332, 0.06732631491811615, 0.14240366225062212, 0.01081473701593111, 0.03381103723747279, 0.004764584219741587, 0.0014799832007593332, -0.150453512338772, 0.14127340531527838, 0.03732873441766642, 0.044569833459652, -0.22644418129618357, 0.08257232199899499, 0.01191119004846493, 0.0078112872469334295, 0.00646994026707219, 0.008543067674646023, -0.01772317469813965, 0.006897213933137553, 0.004764584219741587, -0.004767033186492002, 0.004764584219741587, 0.007530135996948855, 0.04080171426731602, 0.01084609224918683, 0.1448517159006593, 0.22534098598283173, -0.179526155943659, 0.17034604892016542, 0.011838801045625994, 0.11719058807557084, 0.004764584219741587, 0.05418254197089582, 0.008415658426861624, 0.011149385850823958, -0.034059375371520914, 0.0014799832007593332, 0.005678657533537461, 0.011505229659495714, -0.01704830395717245, 0.007868196933678817, 0.09477005216460666, 0.017194134492614706, -0.2290936224423408, 0.004039813193015402, 0.039226447774856295, 0.01519707510238419, 0.004764584219741587, 0.0, 0.01900497208740932, 0.00541723073237822, 0.007317001404020223, 0.006050152796189521, 0.006244567420500921, -0.1532770112000247, 0.1532745622332743, 0.006331304046174097, -0.15392756005214936, 0.0, -0.20810216353943614, 0.018252873152582578, 0.07329816039635287, 0.11121295859893492, -0.12039306562242852, 0.0, -0.04530790675580097, 0.0, 0.07041086417049854, 0.0, 0.011661798152879137, 0.015767927065731373, 0.006244567420500921, 0.00541723073237822, 0.12051054835860778, -0.11434901921989582, 0.0834420114112378, 0.04242927133517347, 0.007949923467831525, 0.05821275014328611, 0.09557591595711726, 0.007761946673291857, 0.006877489484312222, 0.0033159562522379754, 0.06177428337536035, -0.060790430619956315, 0.05358516292135231, 0.03441774535469932, 0.06261115318608536, -0.018310092399862133, -0.11518223039542783, 0.0, 0.030642473230805316, 0.0018262996455578712, 0.01320879353048632, 0.0, 0.014213789090210762, 0.0, -0.13084657467176639, 0.0, -0.11089461915654857, 0.0, 0.006244567420500921, 0.009336786324890128, 0.006244567420500921, 0.00541723073237822, 0.14758498491262712, 0.00541723073237822, -0.1246934391927936, 0.05860544106020111, 0.06878954040927951, 0.06979383431191873, -0.07608360604687679, 0.028019046366678995, 0.07403094641488422, -0.06468912053753531, -0.04193173505118963, -0.052771644276354744, -0.06067679699008038, -0.03273649988165899, -0.04643412333210563, -0.03744464774308071, -0.043861746509992666, -0.05331406671783794, -0.05106721619188156, -0.04105642370602047, -0.052655326464393123, -0.04664268954351331, -0.04928259567664731, -0.05715205801266503, -0.04328842842761551, -0.04353763925831579, -0.04980248350855882, -0.04519532919641226, -0.0472706491709031, -0.24422508431539294, -0.020540594918380506, -0.04209992672617464, -0.053958255116091314, -0.22812968851065132, -0.09075596488211196]], [4.742551508266589], [\"malicious\", \"non-malicious\"]]'"
            ],
            "application/vnd.google.colaboratory.intrinsic+json": {
              "type": "string"
            }
          },
          "metadata": {},
          "execution_count": 11
        }
      ],
      "source": [
        "encoded = json.dumps((cls.coef_.tolist(), cls.intercept_.tolist(), cls.classes_.tolist()))\n",
        "encoded"
      ]
    },
    {
      "cell_type": "markdown",
      "metadata": {
        "id": "RfkDrl-DGdtp"
      },
      "source": [
        "### Upload to Smart Contract"
      ]
    },
    {
      "cell_type": "code",
      "execution_count": 12,
      "metadata": {
        "id": "jS-bYe4PGdtr",
        "colab": {
          "base_uri": "https://localhost:8080/"
        },
        "outputId": "ddf6c81a-fb23-4394-8821-e354b57d4d1e"
      },
      "outputs": [
        {
          "output_type": "stream",
          "name": "stderr",
          "text": [
            "/usr/local/lib/python3.7/dist-packages/web3/eth.py:169: DeprecationWarning: defaultAccount is deprecated in favor of default_account\n",
            "  category=DeprecationWarning,\n",
            "/usr/local/lib/python3.7/dist-packages/eth_abi/codec.py:90: DeprecationWarning: abi.encode_abi() and abi.encode_abi_packed() are deprecated and will be removed in version 4.0.0 in favor of abi.encode() and abi.encode_packed(), respectively\n",
            "  category=DeprecationWarning,\n",
            "/usr/local/lib/python3.7/dist-packages/web3/_utils/decorators.py:50: DeprecationWarning: waitForTransactionReceipt is deprecated in favor of wait_for_transaction_receipt\n",
            "  category=DeprecationWarning)\n"
          ]
        },
        {
          "output_type": "execute_result",
          "data": {
            "text/plain": [
              "AttributeDict({'blockHash': HexBytes('0x4dad2114d818aa518f6a4eb1079f6183bb9167ed4389dafc941a80825a5ab3c8'),\n",
              " 'blockNumber': 2,\n",
              " 'contractAddress': None,\n",
              " 'cumulativeGasUsed': 7925985,\n",
              " 'effectiveGasPrice': 1000000000,\n",
              " 'from': '0x7E5F4552091A69125d5DfCb7b8C2659029395Bdf',\n",
              " 'gasUsed': 7925985,\n",
              " 'logs': [],\n",
              " 'state_root': b'\\x01',\n",
              " 'status': 1,\n",
              " 'to': '0xF2E246BB76DF876Cef8b38ae84130F4F55De395b',\n",
              " 'transactionHash': HexBytes('0x6a52622f5f246b308c6f006f6f140f1ce783e4499c6438b4d1e8016b5124669e'),\n",
              " 'transactionIndex': 0,\n",
              " 'type': '0x2'})"
            ]
          },
          "metadata": {},
          "execution_count": 12
        }
      ],
      "source": [
        "w3.eth.defaultAccount = w3.eth.accounts[0]\n",
        "\n",
        "tx_hash = ml_contract.functions.setModelParameters(encoded)\n",
        "tx_hash = tx_hash.transact()\n",
        "\n",
        "# Wait for transaction to be mined...\n",
        "w3.eth.waitForTransactionReceipt(tx_hash)"
      ]
    },
    {
      "cell_type": "markdown",
      "metadata": {
        "id": "f5wl-Vf7Gdtw"
      },
      "source": [
        "# Module 2: User\n",
        "\n",
        "Now we will check how the user can retrieve the model parameters from the smart contract, and create a logistic regression model based on them. "
      ]
    },
    {
      "cell_type": "markdown",
      "metadata": {
        "id": "Un4lg51UGdtx"
      },
      "source": [
        "### Retrieving data from smart contract and decoding"
      ]
    },
    {
      "cell_type": "code",
      "execution_count": 13,
      "metadata": {
        "id": "EIfb3Lt0Gdty",
        "colab": {
          "base_uri": "https://localhost:8080/",
          "height": 195
        },
        "outputId": "73154b12-d7ca-4117-bc77-4e893aa89d9c"
      },
      "outputs": [
        {
          "output_type": "stream",
          "name": "stderr",
          "text": [
            "/usr/local/lib/python3.7/dist-packages/eth_abi/codec.py:194: DeprecationWarning: abi.decode_abi() is deprecated and will be removed in version 4.0.0 in favor of abi.decode()\n",
            "  category=DeprecationWarning\n"
          ]
        },
        {
          "output_type": "execute_result",
          "data": {
            "text/plain": [
              "'[[[-2.4489667504150466e-06, 0.0, -0.009180107023493629, 0.009177658056743216, -0.009180107023493629, 0.0, -0.009180107023493629, 0.0, -0.009180107023493629, 0.0, -0.07864359632019667, 0.0, 0.06618083460446468, 0.0, -0.06075611942196961, 0.0, 0.004764584219741587, 0.0, 0.28565366943949855, -0.3928409801894102, 0.15502346654336316, 0.0, 0.06709490791826057, 0.08792855862510263, 0.06709490791826057, -0.09819354919879178, 0.06709490791826057, 0.0, 0.15905875813496206, -0.1590612071017125, 0.15502346654336316, 0.0, 0.073545132874597, 0.0, 0.006083865640033722, 0.09242802300114442, -0.10160813002463805, 0.09242802300114442, -0.10160813002463805, 0.00016070178046719713, 0.0669342061377934, -0.1092356261523015, 0.0669342061377934, -0.07611431316128701, 0.0669342061377934, 0.08149383315723732, 0.18592066433841217, 0.024982255255052266, -0.2685168917673318, 0.25933678474383814, -0.2859004720606314, 0.1804390202229301, -0.26941510512244105, 0.00016070178046719713, 0.18663308138873613, 0.030406798744878102, -0.03958690576837174, 0.030406798744878102, -0.07451401497140908, 0.07451156600465865, -0.1186011124042397, 0.024982255255052266, 0.004764584219741587, 0.09291613972794838, 0.004764584219741587, 0.2405110473555556, -0.24051349632230604, 0.00886437128050063, 0.29063202622927714, 0.07114028453573362, 0.0059083826770061285, 0.011275504516027048, 0.06367977641596305, 0.011275504516027048, 0.08339595333903949, 0.006897213933137553, 0.004764584219741587, 0.02825588788898406, -0.028258336855734475, 0.02825588788898406, 0.004764584219741587, -0.004767033186492002, 0.004764584219741587, -0.013944691243235217, 0.004764584219741587, 0.007530135996948855, 0.004764584219741587, 0.0, -0.14897352913801265, 0.0, 0.006244567420500921, -0.006247016387251335, 0.006244567420500921, 0.03960122613534521, 0.010215588088202748, 0.0, 0.014977754405117116, -0.11447796135581556, 0.006244567420500921, 0.11736191839994473, 0.006244567420500921, -0.006247016387251335, 0.006244567420500921, 0.006050152796189521, 0.006244567420500921, 0.006050152796189521, -0.03695716060484755, 0.006050152796189521, 0.004764584219741587, 0.0014799832007593332, 0.16460204654065386, 0.0014799832007593332, 0.14535560070975556, 0.0014799832007593332, 0.004764584219741587, -0.17546501414291862, 0.015876182425316042, 0.0014799832007593332, 0.004764584219741587, 0.00479593945299731, 0.029348761418498265, 0.02197903125862735, -0.047846697512606395, 0.0014799832007593332, 0.001298958993226615, 0.025347988652903008, 0.14436648925357257, 0.09662870224701338, 0.11361025708777796, 0.0005728991002388913, 0.016610988092794286, -0.06608998539947089, 0.06608753643272047, 0.0005728991002388913, -0.12166905113382614, 0.01800657880055789, 0.005671668320262027, 0.09175783472771191, -0.34384286825476224, 0.31570235569030886, -0.2204101389759528, 0.006768500445971473, 0.06490217956129896, 0.00599012983261711, 0.00630459038407333, 0.08901743211062375, 0.00630459038407333, 0.007976637129932289, 0.026311108466596875, 0.008609559193743592, 0.005671668320262027, 0.006623051896428414, 0.031121217353780373, -0.031123666320530787, 0.031121217353780373, 0.08964862720034875, -0.1537935822031071, 0.019472757732947432, 0.005671668320262027, 0.03800023608501635, 0.07569516886942403, -0.2246686980074367, 0.03661598926146414, -0.03661843822821455, 0.03661598926146414, 0.00599012983261711, 0.00630459038407333, -0.006307039350823746, 0.00630459038407333, -0.092107372590409, 0.06100873130987779, 0.010879296808959847, 0.005671668320262027, 0.010177983589219373, 0.10727361171384255, 0.016474834265230984, 0.06047185602183215, 0.016474834265230984, -0.2916310931079611, 0.013136735661340455, 0.03538238877118983, -0.25618991679521386, 0.23011819312507795, 0.0, 0.004925286000208784, 0.12732425532775418, 0.011106808356627028, 0.0647950854324626, 0.12396603379768546, 0.0013192814202921362, 0.06812804630769684, 0.06180595298502404, -0.12905513709937058, 0.11987503007587698, 0.0055582080640200855, 0.1464861635707386, 0.004925286000208784, 0.01108457356102992, 0.004925286000208784, -0.17562571592338586, 0.004925286000208784, 0.10326676314681543, 0.07167948859757858, 0.0, -0.19564733126095124, 0.023242847178636276, -0.24558503089122127, 0.025496422487487187, 0.044625774253403895, 0.024821553474585072, 0.004764584219741587, 0.0640417138991339, -0.06404416286588432, 0.007530135996948855, 0.007529462130411124, 0.0336396839150938, 0.004764584219741587, 0.0014799832007593332, -0.010660090224252966, 0.0014799832007593332, 0.004764584219741587, 0.0014799832007593332, 0.004764584219741587, 0.0014799832007593332, 0.011095888265915682, 0.0051377374932387665, -0.1201465870888874, 0.003963709861444296, 0.011095888265915682, 0.0, -0.009180107023493629, 0.0, 0.011661798152879137, 0.08424548850510659, 0.02168748290959557, 0.059131007263311525, 0.07476690230487162, -0.08394700932836525, 0.006244567420500921, 0.06085034049775964, 0.0376615481434185, 0.11438282349134017, 0.006244567420500921, 0.006964226109985397, 0.060130681808275174, 0.030871706270774596, 0.006244567420500921, 0.00541723073237822, 0.010219661083047782, -0.268686774565713, 0.013774404049785277, 0.0, 0.006244567420500921, 0.07119569987780532, 0.03146693187670462, 0.006050152796189521, 0.00666472939025682, -0.025980817383784587, 0.006244567420500921, 0.07483364152035824, 0.01414202045756416, 0.006050152796189521, 0.004925286000208784, 0.06216962191805178, 0.004925286000208784, -0.2899333272117415, 0.004925286000208784, -0.09383706994101008, 0.004925286000208784, 0.0067365121526703564, 0.030171506152871657, 0.0067365121526703564, 0.004764584219741587, -0.0016389485845091408, -0.01668950211564904, 0.010872307595684411, 0.020294880619947345, 0.2430997309085212, 0.03130465045388822, -0.03130709942063865, 0.014413033807246046, -0.12670464521977734, 0.09579763741111928, 0.007969647916656854, 0.004764584219741587, 0.010331202027701247, 0.005678657533537461, 0.08262821917260778, 0.05895984351599084, -0.20793337265400347, 0.20793092368725308, 0.007530135996948855, 0.005837018203260888, 0.093784208764713, 0.004764584219741587, -0.16175894315628822, 0.023873799020691856, 0.11364657425131568, 0.004764584219741587, 0.08282326198776134, 0.08521420124751639, 0.14279380966150707, 0.005416856233504988, 0.02471979706492332, 0.09117701765722913, 0.007530135996948855, 0.004764584219741587, 0.02471979706492332, 0.04001304766107098, 0.0023940565145552086, 0.004764584219741587, 0.041121005870434206, 0.004764584219741587, 0.10663322537329849, 0.004764584219741587, 0.1750804357982067, 0.004764584219741587, 0.24782593042708023, 0.004764584219741587, -0.26495107195668915, 0.09425064203351209, 0.018160418521995198, -0.18776602829444047, 0.07998519864037308, 0.004764584219741587, 0.060198494730943256, 0.004764584219741587, 0.008602569980468159, 0.004764584219741587, -0.15042215710551626, 0.14124205008202262, 0.0023940565145552086, 0.033263265036602103, -0.19105448297643496, 0.004764584219741587, 0.03436314285606647, 0.004764584219741587, 0.006897213933137553, -0.12703695345151067, 0.006897213933137553, -0.0678978365623279, 0.006897213933137553, 0.10129483521388669, -0.14758807165736998, 0.004764584219741587, 0.026934458739155703, 0.005678657533537461, 0.03743099153225136, 0.005678657533537461, 0.042922210382413305, 0.004764584219741587, 0.14823922716429896, 0.02800743139837786, 0.018444642500583905, 0.004764584219741587, 0.006897213933137553, 0.0063115795973487645, 0.007571415207824271, 0.010181814952119807, -0.17546011641601397, 0.04620681140139554, 0.1742310259750174, 0.004764584219741587, 0.0100577488622472, 0.004764584219741587, -0.2343307461796592, 0.18828234540226216, 0.007530135996948855, -0.031127253892211416, 0.005564377144070678, 0.004764584219741587, 0.0014799832007593332, 0.07189617871225633, 0.0014799832007593332, 0.004764584219741587, 0.006897213933137553, 0.004764584219741587, -0.01026508036408785, 0.010262631397337432, -0.16316431547518304, 0.004764584219741587, 0.0014799832007593332, 0.07155634448415002, 0.11824307110994908, -0.2937742123132137, 0.08792367742910574, 0.029162490030045986, 0.12917344442778536, 0.015703903992273845, 0.12046452489618192, 0.014789830678477967, 0.0014799832007593332, 0.06732631491811615, 0.14240366225062212, 0.01081473701593111, 0.03381103723747279, 0.004764584219741587, 0.0014799832007593332, -0.150453512338772, 0.14127340531527838, 0.03732873441766642, 0.044569833459652, -0.22644418129618357, 0.08257232199899499, 0.01191119004846493, 0.0078112872469334295, 0.00646994026707219, 0.008543067674646023, -0.01772317469813965, 0.006897213933137553, 0.004764584219741587, -0.004767033186492002, 0.004764584219741587, 0.007530135996948855, 0.04080171426731602, 0.01084609224918683, 0.1448517159006593, 0.22534098598283173, -0.179526155943659, 0.17034604892016542, 0.011838801045625994, 0.11719058807557084, 0.004764584219741587, 0.05418254197089582, 0.008415658426861624, 0.011149385850823958, -0.034059375371520914, 0.0014799832007593332, 0.005678657533537461, 0.011505229659495714, -0.01704830395717245, 0.007868196933678817, 0.09477005216460666, 0.017194134492614706, -0.2290936224423408, 0.004039813193015402, 0.039226447774856295, 0.01519707510238419, 0.004764584219741587, 0.0, 0.01900497208740932, 0.00541723073237822, 0.007317001404020223, 0.006050152796189521, 0.006244567420500921, -0.1532770112000247, 0.1532745622332743, 0.006331304046174097, -0.15392756005214936, 0.0, -0.20810216353943614, 0.018252873152582578, 0.07329816039635287, 0.11121295859893492, -0.12039306562242852, 0.0, -0.04530790675580097, 0.0, 0.07041086417049854, 0.0, 0.011661798152879137, 0.015767927065731373, 0.006244567420500921, 0.00541723073237822, 0.12051054835860778, -0.11434901921989582, 0.0834420114112378, 0.04242927133517347, 0.007949923467831525, 0.05821275014328611, 0.09557591595711726, 0.007761946673291857, 0.006877489484312222, 0.0033159562522379754, 0.06177428337536035, -0.060790430619956315, 0.05358516292135231, 0.03441774535469932, 0.06261115318608536, -0.018310092399862133, -0.11518223039542783, 0.0, 0.030642473230805316, 0.0018262996455578712, 0.01320879353048632, 0.0, 0.014213789090210762, 0.0, -0.13084657467176639, 0.0, -0.11089461915654857, 0.0, 0.006244567420500921, 0.009336786324890128, 0.006244567420500921, 0.00541723073237822, 0.14758498491262712, 0.00541723073237822, -0.1246934391927936, 0.05860544106020111, 0.06878954040927951, 0.06979383431191873, -0.07608360604687679, 0.028019046366678995, 0.07403094641488422, -0.06468912053753531, -0.04193173505118963, -0.052771644276354744, -0.06067679699008038, -0.03273649988165899, -0.04643412333210563, -0.03744464774308071, -0.043861746509992666, -0.05331406671783794, -0.05106721619188156, -0.04105642370602047, -0.052655326464393123, -0.04664268954351331, -0.04928259567664731, -0.05715205801266503, -0.04328842842761551, -0.04353763925831579, -0.04980248350855882, -0.04519532919641226, -0.0472706491709031, -0.24422508431539294, -0.020540594918380506, -0.04209992672617464, -0.053958255116091314, -0.22812968851065132, -0.09075596488211196]], [4.742551508266589], [\"malicious\", \"non-malicious\"]]'"
            ],
            "application/vnd.google.colaboratory.intrinsic+json": {
              "type": "string"
            }
          },
          "metadata": {},
          "execution_count": 13
        }
      ],
      "source": [
        "w3.eth.defaultAccount = w3.eth.accounts[1]\n",
        "\n",
        "encoded_parameters = ml_contract.functions.getModelParameters().call()\n",
        "encoded_parameters"
      ]
    },
    {
      "cell_type": "markdown",
      "metadata": {
        "id": "4GtkGnXuGdt2"
      },
      "source": [
        "### Creating model based on parameters retrieved"
      ]
    },
    {
      "cell_type": "code",
      "source": [
        "decoded_parameters = json.loads(encoded_parameters)\n",
        "cls_global = LogisticRegression()\n",
        "\n",
        "cls_global.coef_ = np.array(decoded_parameters[0])\n",
        "cls_global.intercept_ = np.array(decoded_parameters[1])\n",
        "cls_global.classes_ = np.array(decoded_parameters[2])"
      ],
      "metadata": {
        "id": "fcpNBz3i3L4P"
      },
      "execution_count": 14,
      "outputs": []
    },
    {
      "cell_type": "markdown",
      "metadata": {
        "id": "mgr1RPhLGdt6"
      },
      "source": [
        "### Performing Prediction"
      ]
    },
    {
      "cell_type": "code",
      "execution_count": 15,
      "metadata": {
        "id": "i8nMD350Gdt7",
        "colab": {
          "base_uri": "https://localhost:8080/",
          "height": 261
        },
        "outputId": "4b779f85-6ece-4488-f64e-411a1a5cf7ee"
      },
      "outputs": [
        {
          "output_type": "stream",
          "name": "stderr",
          "text": [
            "/usr/local/lib/python3.7/dist-packages/sklearn/base.py:444: UserWarning: X has feature names, but LogisticRegression was fitted without feature names\n",
            "  f\"X has feature names, but {self.__class__.__name__} was fitted without\"\n"
          ]
        },
        {
          "output_type": "execute_result",
          "data": {
            "text/plain": [
              "  Predicted Outcomes Actual Outcomes\n",
              "0          malicious       malicious\n",
              "1      non-malicious   non-malicious\n",
              "2      non-malicious   non-malicious\n",
              "3          malicious       malicious\n",
              "4      non-malicious   non-malicious"
            ],
            "text/html": [
              "\n",
              "  <div id=\"df-4b8a23f6-7182-42b3-a11b-eba5908938dc\">\n",
              "    <div class=\"colab-df-container\">\n",
              "      <div>\n",
              "<style scoped>\n",
              "    .dataframe tbody tr th:only-of-type {\n",
              "        vertical-align: middle;\n",
              "    }\n",
              "\n",
              "    .dataframe tbody tr th {\n",
              "        vertical-align: top;\n",
              "    }\n",
              "\n",
              "    .dataframe thead th {\n",
              "        text-align: right;\n",
              "    }\n",
              "</style>\n",
              "<table border=\"1\" class=\"dataframe\">\n",
              "  <thead>\n",
              "    <tr style=\"text-align: right;\">\n",
              "      <th></th>\n",
              "      <th>Predicted Outcomes</th>\n",
              "      <th>Actual Outcomes</th>\n",
              "    </tr>\n",
              "  </thead>\n",
              "  <tbody>\n",
              "    <tr>\n",
              "      <th>0</th>\n",
              "      <td>malicious</td>\n",
              "      <td>malicious</td>\n",
              "    </tr>\n",
              "    <tr>\n",
              "      <th>1</th>\n",
              "      <td>non-malicious</td>\n",
              "      <td>non-malicious</td>\n",
              "    </tr>\n",
              "    <tr>\n",
              "      <th>2</th>\n",
              "      <td>non-malicious</td>\n",
              "      <td>non-malicious</td>\n",
              "    </tr>\n",
              "    <tr>\n",
              "      <th>3</th>\n",
              "      <td>malicious</td>\n",
              "      <td>malicious</td>\n",
              "    </tr>\n",
              "    <tr>\n",
              "      <th>4</th>\n",
              "      <td>non-malicious</td>\n",
              "      <td>non-malicious</td>\n",
              "    </tr>\n",
              "  </tbody>\n",
              "</table>\n",
              "</div>\n",
              "      <button class=\"colab-df-convert\" onclick=\"convertToInteractive('df-4b8a23f6-7182-42b3-a11b-eba5908938dc')\"\n",
              "              title=\"Convert this dataframe to an interactive table.\"\n",
              "              style=\"display:none;\">\n",
              "        \n",
              "  <svg xmlns=\"http://www.w3.org/2000/svg\" height=\"24px\"viewBox=\"0 0 24 24\"\n",
              "       width=\"24px\">\n",
              "    <path d=\"M0 0h24v24H0V0z\" fill=\"none\"/>\n",
              "    <path d=\"M18.56 5.44l.94 2.06.94-2.06 2.06-.94-2.06-.94-.94-2.06-.94 2.06-2.06.94zm-11 1L8.5 8.5l.94-2.06 2.06-.94-2.06-.94L8.5 2.5l-.94 2.06-2.06.94zm10 10l.94 2.06.94-2.06 2.06-.94-2.06-.94-.94-2.06-.94 2.06-2.06.94z\"/><path d=\"M17.41 7.96l-1.37-1.37c-.4-.4-.92-.59-1.43-.59-.52 0-1.04.2-1.43.59L10.3 9.45l-7.72 7.72c-.78.78-.78 2.05 0 2.83L4 21.41c.39.39.9.59 1.41.59.51 0 1.02-.2 1.41-.59l7.78-7.78 2.81-2.81c.8-.78.8-2.07 0-2.86zM5.41 20L4 18.59l7.72-7.72 1.47 1.35L5.41 20z\"/>\n",
              "  </svg>\n",
              "      </button>\n",
              "      \n",
              "  <style>\n",
              "    .colab-df-container {\n",
              "      display:flex;\n",
              "      flex-wrap:wrap;\n",
              "      gap: 12px;\n",
              "    }\n",
              "\n",
              "    .colab-df-convert {\n",
              "      background-color: #E8F0FE;\n",
              "      border: none;\n",
              "      border-radius: 50%;\n",
              "      cursor: pointer;\n",
              "      display: none;\n",
              "      fill: #1967D2;\n",
              "      height: 32px;\n",
              "      padding: 0 0 0 0;\n",
              "      width: 32px;\n",
              "    }\n",
              "\n",
              "    .colab-df-convert:hover {\n",
              "      background-color: #E2EBFA;\n",
              "      box-shadow: 0px 1px 2px rgba(60, 64, 67, 0.3), 0px 1px 3px 1px rgba(60, 64, 67, 0.15);\n",
              "      fill: #174EA6;\n",
              "    }\n",
              "\n",
              "    [theme=dark] .colab-df-convert {\n",
              "      background-color: #3B4455;\n",
              "      fill: #D2E3FC;\n",
              "    }\n",
              "\n",
              "    [theme=dark] .colab-df-convert:hover {\n",
              "      background-color: #434B5C;\n",
              "      box-shadow: 0px 1px 3px 1px rgba(0, 0, 0, 0.15);\n",
              "      filter: drop-shadow(0px 1px 2px rgba(0, 0, 0, 0.3));\n",
              "      fill: #FFFFFF;\n",
              "    }\n",
              "  </style>\n",
              "\n",
              "      <script>\n",
              "        const buttonEl =\n",
              "          document.querySelector('#df-4b8a23f6-7182-42b3-a11b-eba5908938dc button.colab-df-convert');\n",
              "        buttonEl.style.display =\n",
              "          google.colab.kernel.accessAllowed ? 'block' : 'none';\n",
              "\n",
              "        async function convertToInteractive(key) {\n",
              "          const element = document.querySelector('#df-4b8a23f6-7182-42b3-a11b-eba5908938dc');\n",
              "          const dataTable =\n",
              "            await google.colab.kernel.invokeFunction('convertToInteractive',\n",
              "                                                     [key], {});\n",
              "          if (!dataTable) return;\n",
              "\n",
              "          const docLinkHtml = 'Like what you see? Visit the ' +\n",
              "            '<a target=\"_blank\" href=https://colab.research.google.com/notebooks/data_table.ipynb>data table notebook</a>'\n",
              "            + ' to learn more about interactive tables.';\n",
              "          element.innerHTML = '';\n",
              "          dataTable['output_type'] = 'display_data';\n",
              "          await google.colab.output.renderOutput(dataTable, element);\n",
              "          const docLink = document.createElement('div');\n",
              "          docLink.innerHTML = docLinkHtml;\n",
              "          element.appendChild(docLink);\n",
              "        }\n",
              "      </script>\n",
              "    </div>\n",
              "  </div>\n",
              "  "
            ]
          },
          "metadata": {},
          "execution_count": 15
        }
      ],
      "source": [
        "predictions = cls_global.predict(X_test);\n",
        "result = pd.DataFrame(np.vstack((predictions, y_test)).T,columns=['Predicted Outcomes','Actual Outcomes'])\n",
        "result.head()"
      ]
    },
    {
      "cell_type": "markdown",
      "metadata": {
        "id": "ZkEZ1fHZGdt_"
      },
      "source": [
        "### Showing resulting metrics"
      ]
    },
    {
      "cell_type": "code",
      "execution_count": 16,
      "metadata": {
        "id": "Dt76RgrqGduA",
        "colab": {
          "base_uri": "https://localhost:8080/"
        },
        "outputId": "86d8ed64-8169-4f6e-9598-c9643ca8a01d"
      },
      "outputs": [
        {
          "output_type": "stream",
          "name": "stdout",
          "text": [
            "[[57  1]\n",
            " [ 1 16]]\n",
            "Accuracy: 97.333333%\n",
            "Precision: 98.275862%\n"
          ]
        }
      ],
      "source": [
        "accuracy = np.sum(predictions == y_test) / y_test.shape[0] * 100\n",
        "conf_matrix = confusion_matrix(predictions, y_test)\n",
        "precision = conf_matrix[0,0] / (conf_matrix[0,0] + conf_matrix[0,1]) * 100\n",
        "\n",
        "print(conf_matrix)\n",
        "print(\"Accuracy: {0:.6f}%\".format(accuracy))\n",
        "print(\"Precision: {0:.6f}%\".format(precision))"
      ]
    }
  ],
  "metadata": {
    "colab": {
      "provenance": []
    },
    "kernelspec": {
      "display_name": "Python 3",
      "language": "python",
      "name": "python3"
    }
  },
  "nbformat": 4,
  "nbformat_minor": 0
}